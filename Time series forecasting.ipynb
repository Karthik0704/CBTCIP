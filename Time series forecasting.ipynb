{
 "cells": [
  {
   "cell_type": "code",
   "execution_count": 20,
   "id": "e6560620",
   "metadata": {},
   "outputs": [],
   "source": [
    "import numpy as np \n",
    "import pandas as pd \n",
    "import os\n",
    "import seaborn as sns\n",
    "import matplotlib.pyplot as plt\n",
    "\n",
    "from tqdm import tqdm "
   ]
  },
  {
   "cell_type": "code",
   "execution_count": 32,
   "id": "0c69a7de",
   "metadata": {},
   "outputs": [
    {
     "name": "stdout",
     "output_type": "stream",
     "text": [
      "shape of data is : (5141, 14)\n"
     ]
    }
   ],
   "source": [
    "df=pd.read_csv(\"datasets_423609_1456925_TATASTEEL.csv\",index_col='Date',parse_dates=True)\n",
    "print(\"shape of data is :\",df.shape)\n",
    "df=df.dropna()"
   ]
  },
  {
   "cell_type": "code",
   "execution_count": 33,
   "id": "736bdffd",
   "metadata": {},
   "outputs": [
    {
     "name": "stdout",
     "output_type": "stream",
     "text": [
      "               Symbol Series  Prev Close   Open    High    Low    Last  \\\n",
      "Date                                                                     \n",
      "2011-06-01  TATASTEEL     EQ      589.00  592.0  597.45  580.1  582.25   \n",
      "2011-06-02  TATASTEEL     EQ      582.30  577.0  577.00  571.5  574.75   \n",
      "2011-06-03  TATASTEEL     EQ      574.90  577.3  583.30  571.0  572.50   \n",
      "2011-06-06  TATASTEEL     EQ      573.25  573.0  573.00  564.3  568.20   \n",
      "2011-06-07  TATASTEEL     EQ      567.90  567.0  580.00  566.0  579.55   \n",
      "\n",
      "             Close    VWAP   Volume  Turnover   Trades  Deliverable Volume  \\\n",
      "Date                                                                         \n",
      "2011-06-01  582.30  585.53  4662509  2.73e+14  95551.0            1.98e+06   \n",
      "2011-06-02  574.90  574.48  2134221  1.23e+14  50465.0            6.63e+05   \n",
      "2011-06-03  573.25  576.51  2429921  1.40e+14  51294.0            7.57e+05   \n",
      "2011-06-06  567.90  567.81  2756340  1.57e+14  59233.0            1.08e+06   \n",
      "2011-06-07  577.95  574.22  2098576  1.21e+14  52727.0            6.51e+05   \n",
      "\n",
      "            %Deliverble  \n",
      "Date                     \n",
      "2011-06-01         0.42  \n",
      "2011-06-02         0.31  \n",
      "2011-06-03         0.31  \n",
      "2011-06-06         0.39  \n",
      "2011-06-07         0.31  \n"
     ]
    }
   ],
   "source": [
    "print(df.head())"
   ]
  },
  {
   "cell_type": "code",
   "execution_count": 34,
   "id": "8d76ffb9",
   "metadata": {},
   "outputs": [
    {
     "data": {
      "text/html": [
       "<div>\n",
       "<style scoped>\n",
       "    .dataframe tbody tr th:only-of-type {\n",
       "        vertical-align: middle;\n",
       "    }\n",
       "\n",
       "    .dataframe tbody tr th {\n",
       "        vertical-align: top;\n",
       "    }\n",
       "\n",
       "    .dataframe thead th {\n",
       "        text-align: right;\n",
       "    }\n",
       "</style>\n",
       "<table border=\"1\" class=\"dataframe\">\n",
       "  <thead>\n",
       "    <tr style=\"text-align: right;\">\n",
       "      <th></th>\n",
       "      <th>Prev Close</th>\n",
       "      <th>Open</th>\n",
       "      <th>High</th>\n",
       "      <th>Low</th>\n",
       "      <th>Last</th>\n",
       "      <th>Close</th>\n",
       "      <th>VWAP</th>\n",
       "      <th>Volume</th>\n",
       "      <th>Turnover</th>\n",
       "      <th>Trades</th>\n",
       "      <th>Deliverable Volume</th>\n",
       "      <th>%Deliverble</th>\n",
       "    </tr>\n",
       "  </thead>\n",
       "  <tbody>\n",
       "    <tr>\n",
       "      <th>count</th>\n",
       "      <td>2291.00</td>\n",
       "      <td>2291.00</td>\n",
       "      <td>2291.00</td>\n",
       "      <td>2291.00</td>\n",
       "      <td>2291.00</td>\n",
       "      <td>2291.00</td>\n",
       "      <td>2291.00</td>\n",
       "      <td>2.29e+03</td>\n",
       "      <td>2.29e+03</td>\n",
       "      <td>2291.00</td>\n",
       "      <td>2.29e+03</td>\n",
       "      <td>2291.00</td>\n",
       "    </tr>\n",
       "    <tr>\n",
       "      <th>mean</th>\n",
       "      <td>428.74</td>\n",
       "      <td>429.31</td>\n",
       "      <td>435.49</td>\n",
       "      <td>422.44</td>\n",
       "      <td>428.59</td>\n",
       "      <td>428.66</td>\n",
       "      <td>429.09</td>\n",
       "      <td>6.96e+06</td>\n",
       "      <td>2.93e+14</td>\n",
       "      <td>85658.53</td>\n",
       "      <td>1.73e+06</td>\n",
       "      <td>0.27</td>\n",
       "    </tr>\n",
       "    <tr>\n",
       "      <th>std</th>\n",
       "      <td>118.33</td>\n",
       "      <td>118.57</td>\n",
       "      <td>119.32</td>\n",
       "      <td>117.35</td>\n",
       "      <td>118.27</td>\n",
       "      <td>118.29</td>\n",
       "      <td>118.37</td>\n",
       "      <td>4.86e+06</td>\n",
       "      <td>2.13e+14</td>\n",
       "      <td>43482.52</td>\n",
       "      <td>1.15e+06</td>\n",
       "      <td>0.10</td>\n",
       "    </tr>\n",
       "    <tr>\n",
       "      <th>min</th>\n",
       "      <td>198.25</td>\n",
       "      <td>197.50</td>\n",
       "      <td>206.00</td>\n",
       "      <td>195.30</td>\n",
       "      <td>197.20</td>\n",
       "      <td>198.25</td>\n",
       "      <td>199.60</td>\n",
       "      <td>1.62e+05</td>\n",
       "      <td>5.83e+12</td>\n",
       "      <td>2796.00</td>\n",
       "      <td>2.42e+04</td>\n",
       "      <td>0.05</td>\n",
       "    </tr>\n",
       "    <tr>\n",
       "      <th>25%</th>\n",
       "      <td>344.48</td>\n",
       "      <td>345.73</td>\n",
       "      <td>350.95</td>\n",
       "      <td>340.10</td>\n",
       "      <td>344.40</td>\n",
       "      <td>344.48</td>\n",
       "      <td>345.76</td>\n",
       "      <td>3.96e+06</td>\n",
       "      <td>1.56e+14</td>\n",
       "      <td>56384.50</td>\n",
       "      <td>9.73e+05</td>\n",
       "      <td>0.19</td>\n",
       "    </tr>\n",
       "    <tr>\n",
       "      <th>50%</th>\n",
       "      <td>413.80</td>\n",
       "      <td>413.50</td>\n",
       "      <td>419.30</td>\n",
       "      <td>407.95</td>\n",
       "      <td>413.90</td>\n",
       "      <td>413.70</td>\n",
       "      <td>413.57</td>\n",
       "      <td>5.55e+06</td>\n",
       "      <td>2.27e+14</td>\n",
       "      <td>76396.00</td>\n",
       "      <td>1.47e+06</td>\n",
       "      <td>0.26</td>\n",
       "    </tr>\n",
       "    <tr>\n",
       "      <th>75%</th>\n",
       "      <td>501.85</td>\n",
       "      <td>500.85</td>\n",
       "      <td>507.98</td>\n",
       "      <td>493.38</td>\n",
       "      <td>501.48</td>\n",
       "      <td>501.73</td>\n",
       "      <td>501.17</td>\n",
       "      <td>8.39e+06</td>\n",
       "      <td>3.60e+14</td>\n",
       "      <td>103045.00</td>\n",
       "      <td>2.14e+06</td>\n",
       "      <td>0.34</td>\n",
       "    </tr>\n",
       "    <tr>\n",
       "      <th>max</th>\n",
       "      <td>783.50</td>\n",
       "      <td>782.75</td>\n",
       "      <td>793.00</td>\n",
       "      <td>771.25</td>\n",
       "      <td>783.70</td>\n",
       "      <td>783.50</td>\n",
       "      <td>785.78</td>\n",
       "      <td>4.94e+07</td>\n",
       "      <td>2.40e+15</td>\n",
       "      <td>428867.00</td>\n",
       "      <td>1.65e+07</td>\n",
       "      <td>0.68</td>\n",
       "    </tr>\n",
       "  </tbody>\n",
       "</table>\n",
       "</div>"
      ],
      "text/plain": [
       "       Prev Close     Open     High      Low     Last    Close     VWAP  \\\n",
       "count     2291.00  2291.00  2291.00  2291.00  2291.00  2291.00  2291.00   \n",
       "mean       428.74   429.31   435.49   422.44   428.59   428.66   429.09   \n",
       "std        118.33   118.57   119.32   117.35   118.27   118.29   118.37   \n",
       "min        198.25   197.50   206.00   195.30   197.20   198.25   199.60   \n",
       "25%        344.48   345.73   350.95   340.10   344.40   344.48   345.76   \n",
       "50%        413.80   413.50   419.30   407.95   413.90   413.70   413.57   \n",
       "75%        501.85   500.85   507.98   493.38   501.48   501.73   501.17   \n",
       "max        783.50   782.75   793.00   771.25   783.70   783.50   785.78   \n",
       "\n",
       "         Volume  Turnover     Trades  Deliverable Volume  %Deliverble  \n",
       "count  2.29e+03  2.29e+03    2291.00            2.29e+03      2291.00  \n",
       "mean   6.96e+06  2.93e+14   85658.53            1.73e+06         0.27  \n",
       "std    4.86e+06  2.13e+14   43482.52            1.15e+06         0.10  \n",
       "min    1.62e+05  5.83e+12    2796.00            2.42e+04         0.05  \n",
       "25%    3.96e+06  1.56e+14   56384.50            9.73e+05         0.19  \n",
       "50%    5.55e+06  2.27e+14   76396.00            1.47e+06         0.26  \n",
       "75%    8.39e+06  3.60e+14  103045.00            2.14e+06         0.34  \n",
       "max    4.94e+07  2.40e+15  428867.00            1.65e+07         0.68  "
      ]
     },
     "execution_count": 34,
     "metadata": {},
     "output_type": "execute_result"
    }
   ],
   "source": [
    "df.describe()"
   ]
  },
  {
   "cell_type": "code",
   "execution_count": 67,
   "id": "653c19cb",
   "metadata": {},
   "outputs": [
    {
     "name": "stdout",
     "output_type": "stream",
     "text": [
      "Axes(0.125,0.2;0.775x0.68)\n"
     ]
    },
    {
     "data": {
      "image/png": "[encoded data removed]",
      "text/plain": [
       "<Figure size 1000x500 with 1 Axes>"
      ]
     },
     "metadata": {},
     "output_type": "display_data"
    }
   ],
   "source": [
    "print(df[['High', 'Low']].plot(figsize=(10, 5)))\n"
   ]
  },
  {
   "cell_type": "markdown",
   "id": "8c815339",
   "metadata": {},
   "source": [
    "## Checking for stationarity"
   ]
  },
  {
   "cell_type": "code",
   "execution_count": 44,
   "id": "dfe2f973",
   "metadata": {},
   "outputs": [],
   "source": [
    "from statsmodels.tsa.stattools import adfuller\n",
    "\n",
    "def ad_test(dataset):\n",
    "    dftest = adfuller(dataset, autolag='AIC')  # Use 'AIC' for automatic lag selection\n",
    "    print(\"1. ADF:\", dftest[0])\n",
    "    print(\"2. P-VALUE:\", dftest[1])\n",
    "    print(\"3. number of lags:\", dftest[2])\n",
    "    print(\"4. Number of observations used for ADF Regression and CVC:\", dftest[3])\n",
    "    print(\"5. Critical Values:\")\n",
    "    for key, val in dftest[4].items():\n",
    "        print(\"\\t\", key, \":\", val)\n"
   ]
  },
  {
   "cell_type": "code",
   "execution_count": 49,
   "id": "20a03903",
   "metadata": {},
   "outputs": [
    {
     "name": "stdout",
     "output_type": "stream",
     "text": [
      "1. ADF: -2.1084520440475956\n",
      "2. P-VALUE: 0.24112960220095903\n",
      "3. number of lags: 1\n",
      "4. Number of observations used for ADF Regression and CVC: 2289\n",
      "5. Critical Values:\n",
      "\t 1% : -3.433210047397854\n",
      "\t 5% : -2.862803502559176\n",
      "\t 10% : -2.5674426199971334\n"
     ]
    }
   ],
   "source": [
    "ad_test(df[\"High\"])"
   ]
  },
  {
   "cell_type": "code",
   "execution_count": 50,
   "id": "46791008",
   "metadata": {},
   "outputs": [
    {
     "name": "stdout",
     "output_type": "stream",
     "text": [
      "1. ADF: -2.2113728574040974\n",
      "2. P-VALUE: 0.20214368996368814\n",
      "3. number of lags: 2\n",
      "4. Number of observations used for ADF Regression and CVC: 2288\n",
      "5. Critical Values:\n",
      "\t 1% : -3.433211298825206\n",
      "\t 5% : -2.862804055145576\n",
      "\t 10% : -2.5674429142088244\n"
     ]
    }
   ],
   "source": [
    "ad_test(df[\"Low\"])"
   ]
  },
  {
   "cell_type": "markdown",
   "id": "c702bdd6",
   "metadata": {},
   "source": [
    "## Figuring out order of AR I MA   model"
   ]
  },
  {
   "cell_type": "code",
   "execution_count": 48,
   "id": "3b644bfd",
   "metadata": {},
   "outputs": [],
   "source": [
    "from pmdarima import auto_arima\n",
    "import warnings\n",
    "warnings.filterwarnings(\"ignore\")"
   ]
  },
  {
   "cell_type": "code",
   "execution_count": 52,
   "id": "eea45a12",
   "metadata": {},
   "outputs": [
    {
     "name": "stdout",
     "output_type": "stream",
     "text": [
      "Performing stepwise search to minimize aic\n",
      " ARIMA(2,1,2)(0,0,0)[0] intercept   : AIC=16279.762, Time=2.91 sec\n",
      " ARIMA(0,1,0)(0,0,0)[0] intercept   : AIC=16309.244, Time=0.08 sec\n",
      " ARIMA(1,1,0)(0,0,0)[0] intercept   : AIC=16275.254, Time=0.37 sec\n",
      " ARIMA(0,1,1)(0,0,0)[0] intercept   : AIC=16275.476, Time=0.53 sec\n",
      " ARIMA(0,1,0)(0,0,0)[0]             : AIC=16307.413, Time=0.05 sec\n",
      " ARIMA(2,1,0)(0,0,0)[0] intercept   : AIC=16277.127, Time=0.57 sec\n",
      " ARIMA(1,1,1)(0,0,0)[0] intercept   : AIC=16277.160, Time=0.71 sec\n",
      " ARIMA(2,1,1)(0,0,0)[0] intercept   : AIC=16278.788, Time=1.88 sec\n",
      " ARIMA(1,1,0)(0,0,0)[0]             : AIC=16273.392, Time=0.12 sec\n",
      " ARIMA(2,1,0)(0,0,0)[0]             : AIC=16275.266, Time=0.21 sec\n",
      " ARIMA(1,1,1)(0,0,0)[0]             : AIC=16275.299, Time=0.30 sec\n",
      " ARIMA(0,1,1)(0,0,0)[0]             : AIC=16273.618, Time=0.16 sec\n",
      " ARIMA(2,1,1)(0,0,0)[0]             : AIC=16276.932, Time=0.97 sec\n",
      "\n",
      "Best model:  ARIMA(1,1,0)(0,0,0)[0]          \n",
      "Total fit time: 8.892 seconds\n"
     ]
    },
    {
     "data": {
      "text/html": [
       "<table class=\"simpletable\">\n",
       "<caption>SARIMAX Results</caption>\n",
       "<tr>\n",
       "  <th>Dep. Variable:</th>           <td>y</td>        <th>  No. Observations:  </th>   <td>2291</td>   \n",
       "</tr>\n",
       "<tr>\n",
       "  <th>Model:</th>           <td>SARIMAX(1, 1, 0)</td> <th>  Log Likelihood     </th> <td>-8134.696</td>\n",
       "</tr>\n",
       "<tr>\n",
       "  <th>Date:</th>            <td>Wed, 18 Oct 2023</td> <th>  AIC                </th> <td>16273.392</td>\n",
       "</tr>\n",
       "<tr>\n",
       "  <th>Time:</th>                <td>22:37:43</td>     <th>  BIC                </th> <td>16284.864</td>\n",
       "</tr>\n",
       "<tr>\n",
       "  <th>Sample:</th>                  <td>0</td>        <th>  HQIC               </th> <td>16277.576</td>\n",
       "</tr>\n",
       "<tr>\n",
       "  <th></th>                      <td> - 2291</td>     <th>                     </th>     <td> </td>    \n",
       "</tr>\n",
       "<tr>\n",
       "  <th>Covariance Type:</th>        <td>opg</td>       <th>                     </th>     <td> </td>    \n",
       "</tr>\n",
       "</table>\n",
       "<table class=\"simpletable\">\n",
       "<tr>\n",
       "     <td></td>       <th>coef</th>     <th>std err</th>      <th>z</th>      <th>P>|z|</th>  <th>[0.025</th>    <th>0.975]</th>  \n",
       "</tr>\n",
       "<tr>\n",
       "  <th>ar.L1</th>  <td>    0.1251</td> <td>    0.017</td> <td>    7.458</td> <td> 0.000</td> <td>    0.092</td> <td>    0.158</td>\n",
       "</tr>\n",
       "<tr>\n",
       "  <th>sigma2</th> <td>   71.2826</td> <td>    1.441</td> <td>   49.455</td> <td> 0.000</td> <td>   68.458</td> <td>   74.108</td>\n",
       "</tr>\n",
       "</table>\n",
       "<table class=\"simpletable\">\n",
       "<tr>\n",
       "  <th>Ljung-Box (L1) (Q):</th>     <td>0.00</td> <th>  Jarque-Bera (JB):  </th> <td>524.32</td>\n",
       "</tr>\n",
       "<tr>\n",
       "  <th>Prob(Q):</th>                <td>0.98</td> <th>  Prob(JB):          </th>  <td>0.00</td> \n",
       "</tr>\n",
       "<tr>\n",
       "  <th>Heteroskedasticity (H):</th> <td>1.53</td> <th>  Skew:              </th>  <td>0.19</td> \n",
       "</tr>\n",
       "<tr>\n",
       "  <th>Prob(H) (two-sided):</th>    <td>0.00</td> <th>  Kurtosis:          </th>  <td>5.31</td> \n",
       "</tr>\n",
       "</table><br/><br/>Warnings:<br/>[1] Covariance matrix calculated using the outer product of gradients (complex-step)."
      ],
      "text/plain": [
       "<class 'statsmodels.iolib.summary.Summary'>\n",
       "\"\"\"\n",
       "                               SARIMAX Results                                \n",
       "==============================================================================\n",
       "Dep. Variable:                      y   No. Observations:                 2291\n",
       "Model:               SARIMAX(1, 1, 0)   Log Likelihood               -8134.696\n",
       "Date:                Wed, 18 Oct 2023   AIC                          16273.392\n",
       "Time:                        22:37:43   BIC                          16284.864\n",
       "Sample:                             0   HQIC                         16277.576\n",
       "                               - 2291                                         \n",
       "Covariance Type:                  opg                                         \n",
       "==============================================================================\n",
       "                 coef    std err          z      P>|z|      [0.025      0.975]\n",
       "------------------------------------------------------------------------------\n",
       "ar.L1          0.1251      0.017      7.458      0.000       0.092       0.158\n",
       "sigma2        71.2826      1.441     49.455      0.000      68.458      74.108\n",
       "===================================================================================\n",
       "Ljung-Box (L1) (Q):                   0.00   Jarque-Bera (JB):               524.32\n",
       "Prob(Q):                              0.98   Prob(JB):                         0.00\n",
       "Heteroskedasticity (H):               1.53   Skew:                             0.19\n",
       "Prob(H) (two-sided):                  0.00   Kurtosis:                         5.31\n",
       "===================================================================================\n",
       "\n",
       "Warnings:\n",
       "[1] Covariance matrix calculated using the outer product of gradients (complex-step).\n",
       "\"\"\""
      ]
     },
     "execution_count": 52,
     "metadata": {},
     "output_type": "execute_result"
    }
   ],
   "source": [
    "stepwise_fit=auto_arima(df['High'],trace=True,supress_warnings=True)\n",
    "stepwise_fit.summary()"
   ]
  },
  {
   "cell_type": "code",
   "execution_count": 53,
   "id": "bb0d20f2",
   "metadata": {},
   "outputs": [],
   "source": [
    "from statsmodels.tsa.arima_model import ARIMA"
   ]
  },
  {
   "cell_type": "markdown",
   "id": "9e62f474",
   "metadata": {},
   "source": [
    "## Spliting data into training and testing sets"
   ]
  },
  {
   "cell_type": "code",
   "execution_count": 54,
   "id": "064cb035",
   "metadata": {},
   "outputs": [
    {
     "name": "stdout",
     "output_type": "stream",
     "text": [
      "(2291, 14)\n"
     ]
    }
   ],
   "source": [
    "print(df.shape)"
   ]
  },
  {
   "cell_type": "code",
   "execution_count": 56,
   "id": "af14b710",
   "metadata": {},
   "outputs": [
    {
     "name": "stdout",
     "output_type": "stream",
     "text": [
      "(2091, 14) (200, 14)\n"
     ]
    }
   ],
   "source": [
    "train=df.iloc[:-200]\n",
    "test=df.iloc[-200:]\n",
    "print(train.shape,test.shape)"
   ]
  },
  {
   "cell_type": "code",
   "execution_count": 65,
   "id": "dac119a5",
   "metadata": {},
   "outputs": [
    {
     "name": "stdout",
     "output_type": "stream",
     "text": [
      "                               SARIMAX Results                                \n",
      "==============================================================================\n",
      "Dep. Variable:                   High   No. Observations:                 2091\n",
      "Model:                 ARIMA(1, 0, 5)   Log Likelihood               -7396.298\n",
      "Date:                Thu, 19 Oct 2023   AIC                          14808.595\n",
      "Time:                        07:02:44   BIC                          14853.759\n",
      "Sample:                             0   HQIC                         14825.141\n",
      "                               - 2091                                         \n",
      "Covariance Type:                  opg                                         \n",
      "==============================================================================\n",
      "                 coef    std err          z      P>|z|      [0.025      0.975]\n",
      "------------------------------------------------------------------------------\n",
      "const        440.9812     55.969      7.879      0.000     331.285     550.678\n",
      "ar.L1          0.9968      0.002    619.499      0.000       0.994       1.000\n",
      "ma.L1          0.1431      0.020      7.309      0.000       0.105       0.182\n",
      "ma.L2          0.0064      0.019      0.336      0.737      -0.031       0.044\n",
      "ma.L3         -0.0230      0.020     -1.144      0.252      -0.062       0.016\n",
      "ma.L4          0.0019      0.021      0.092      0.927      -0.040       0.044\n",
      "ma.L5         -0.0103      0.019     -0.553      0.581      -0.047       0.026\n",
      "sigma2        68.9941      1.483     46.531      0.000      66.088      71.900\n",
      "===================================================================================\n",
      "Ljung-Box (L1) (Q):                   0.01   Jarque-Bera (JB):               443.60\n",
      "Prob(Q):                              0.93   Prob(JB):                         0.00\n",
      "Heteroskedasticity (H):               1.50   Skew:                             0.23\n",
      "Prob(H) (two-sided):                  0.00   Kurtosis:                         5.21\n",
      "===================================================================================\n",
      "\n",
      "Warnings:\n",
      "[1] Covariance matrix calculated using the outer product of gradients (complex-step).\n"
     ]
    }
   ],
   "source": [
    "model = ARIMA(train['High'], order=(1,0,5))\n",
    "\n",
    "# Fit the model\n",
    "model= model.fit()\n",
    "\n",
    "# Summary of the model\n",
    "print(model.summary())\n"
   ]
  },
  {
   "cell_type": "markdown",
   "id": "860e7ee4",
   "metadata": {},
   "source": [
    "# MAKING PREDICTIONS ON TEST SET"
   ]
  },
  {
   "cell_type": "code",
   "execution_count": 71,
   "id": "76d3e54e",
   "metadata": {},
   "outputs": [
    {
     "name": "stdout",
     "output_type": "stream",
     "text": [
      "Date\n",
      "2019-11-14    409.85\n",
      "2019-11-15    410.01\n",
      "2019-11-18    410.01\n",
      "2019-11-19    410.14\n",
      "2019-11-20    410.19\n",
      "               ...  \n",
      "2020-08-25    424.13\n",
      "2020-08-26    424.18\n",
      "2020-08-27    424.23\n",
      "2020-08-28    424.29\n",
      "2020-08-31    424.34\n",
      "Name: predicted_mean, Length: 200, dtype: float64\n"
     ]
    }
   ],
   "source": [
    "start=len(train)\n",
    "end=len(train)+len(test)-1\n",
    "pred=model.predict(start,end=end,type='levels')\n",
    "pred.index=df.index[start:end+1]\n",
    "print(pred)\n",
    "\n"
   ]
  },
  {
   "cell_type": "code",
   "execution_count": 72,
   "id": "abbb5ee6",
   "metadata": {},
   "outputs": [
    {
     "data": {
      "text/plain": [
       "<Axes: xlabel='Date'>"
      ]
     },
     "execution_count": 72,
     "metadata": {},
     "output_type": "execute_result"
    },
    {
     "data": {
      "image/png": "[encoded data removed]",
      "text/plain": [
       "<Figure size 640x480 with 1 Axes>"
      ]
     },
     "metadata": {},
     "output_type": "display_data"
    }
   ],
   "source": [
    "pred.plot(legend=True)\n",
    "test['High'].plot(legend=True)"
   ]
  },
  {
   "cell_type": "code",
   "execution_count": 73,
   "id": "e55370c5",
   "metadata": {},
   "outputs": [
    {
     "data": {
      "text/plain": [
       "378.10825"
      ]
     },
     "execution_count": 73,
     "metadata": {},
     "output_type": "execute_result"
    }
   ],
   "source": [
    "test['High'].mean()"
   ]
  },
  {
   "cell_type": "code",
   "execution_count": 75,
   "id": "c54da80e",
   "metadata": {},
   "outputs": [
    {
     "name": "stdout",
     "output_type": "stream",
     "text": [
      "83.94310215765744\n"
     ]
    }
   ],
   "source": [
    "from sklearn.metrics import mean_squared_error\n",
    "from math import sqrt\n",
    "rmse=sqrt(mean_squared_error(pred,test['High']))\n",
    "print(rmse)"
   ]
  },
  {
   "cell_type": "code",
   "execution_count": 76,
   "id": "481ebe66",
   "metadata": {},
   "outputs": [
    {
     "data": {
      "text/html": [
       "<div>\n",
       "<style scoped>\n",
       "    .dataframe tbody tr th:only-of-type {\n",
       "        vertical-align: middle;\n",
       "    }\n",
       "\n",
       "    .dataframe tbody tr th {\n",
       "        vertical-align: top;\n",
       "    }\n",
       "\n",
       "    .dataframe thead th {\n",
       "        text-align: right;\n",
       "    }\n",
       "</style>\n",
       "<table border=\"1\" class=\"dataframe\">\n",
       "  <thead>\n",
       "    <tr style=\"text-align: right;\">\n",
       "      <th></th>\n",
       "      <th>Symbol</th>\n",
       "      <th>Series</th>\n",
       "      <th>Prev Close</th>\n",
       "      <th>Open</th>\n",
       "      <th>High</th>\n",
       "      <th>Low</th>\n",
       "      <th>Last</th>\n",
       "      <th>Close</th>\n",
       "      <th>VWAP</th>\n",
       "      <th>Volume</th>\n",
       "      <th>Turnover</th>\n",
       "      <th>Trades</th>\n",
       "      <th>Deliverable Volume</th>\n",
       "      <th>%Deliverble</th>\n",
       "    </tr>\n",
       "    <tr>\n",
       "      <th>Date</th>\n",
       "      <th></th>\n",
       "      <th></th>\n",
       "      <th></th>\n",
       "      <th></th>\n",
       "      <th></th>\n",
       "      <th></th>\n",
       "      <th></th>\n",
       "      <th></th>\n",
       "      <th></th>\n",
       "      <th></th>\n",
       "      <th></th>\n",
       "      <th></th>\n",
       "      <th></th>\n",
       "      <th></th>\n",
       "    </tr>\n",
       "  </thead>\n",
       "  <tbody>\n",
       "    <tr>\n",
       "      <th>2020-08-25</th>\n",
       "      <td>TATASTEEL</td>\n",
       "      <td>EQ</td>\n",
       "      <td>429.50</td>\n",
       "      <td>432.00</td>\n",
       "      <td>432.65</td>\n",
       "      <td>421.45</td>\n",
       "      <td>423.95</td>\n",
       "      <td>424.00</td>\n",
       "      <td>425.67</td>\n",
       "      <td>10554484</td>\n",
       "      <td>4.49e+14</td>\n",
       "      <td>119137.0</td>\n",
       "      <td>2.24e+06</td>\n",
       "      <td>0.21</td>\n",
       "    </tr>\n",
       "    <tr>\n",
       "      <th>2020-08-26</th>\n",
       "      <td>TATASTEEL</td>\n",
       "      <td>EQ</td>\n",
       "      <td>424.00</td>\n",
       "      <td>425.00</td>\n",
       "      <td>427.75</td>\n",
       "      <td>422.20</td>\n",
       "      <td>425.50</td>\n",
       "      <td>425.00</td>\n",
       "      <td>424.84</td>\n",
       "      <td>7957164</td>\n",
       "      <td>3.38e+14</td>\n",
       "      <td>68604.0</td>\n",
       "      <td>1.79e+06</td>\n",
       "      <td>0.22</td>\n",
       "    </tr>\n",
       "    <tr>\n",
       "      <th>2020-08-27</th>\n",
       "      <td>TATASTEEL</td>\n",
       "      <td>EQ</td>\n",
       "      <td>425.00</td>\n",
       "      <td>425.50</td>\n",
       "      <td>430.20</td>\n",
       "      <td>423.00</td>\n",
       "      <td>427.50</td>\n",
       "      <td>426.85</td>\n",
       "      <td>425.97</td>\n",
       "      <td>9549716</td>\n",
       "      <td>4.07e+14</td>\n",
       "      <td>93181.0</td>\n",
       "      <td>2.09e+06</td>\n",
       "      <td>0.22</td>\n",
       "    </tr>\n",
       "    <tr>\n",
       "      <th>2020-08-28</th>\n",
       "      <td>TATASTEEL</td>\n",
       "      <td>EQ</td>\n",
       "      <td>426.85</td>\n",
       "      <td>429.65</td>\n",
       "      <td>438.00</td>\n",
       "      <td>423.05</td>\n",
       "      <td>423.90</td>\n",
       "      <td>424.20</td>\n",
       "      <td>430.42</td>\n",
       "      <td>15212017</td>\n",
       "      <td>6.55e+14</td>\n",
       "      <td>139003.0</td>\n",
       "      <td>3.61e+06</td>\n",
       "      <td>0.24</td>\n",
       "    </tr>\n",
       "    <tr>\n",
       "      <th>2020-08-31</th>\n",
       "      <td>TATASTEEL</td>\n",
       "      <td>EQ</td>\n",
       "      <td>424.20</td>\n",
       "      <td>426.50</td>\n",
       "      <td>430.15</td>\n",
       "      <td>410.00</td>\n",
       "      <td>411.00</td>\n",
       "      <td>413.00</td>\n",
       "      <td>419.91</td>\n",
       "      <td>15746139</td>\n",
       "      <td>6.61e+14</td>\n",
       "      <td>123587.0</td>\n",
       "      <td>4.26e+06</td>\n",
       "      <td>0.27</td>\n",
       "    </tr>\n",
       "  </tbody>\n",
       "</table>\n",
       "</div>"
      ],
      "text/plain": [
       "               Symbol Series  Prev Close    Open    High     Low    Last  \\\n",
       "Date                                                                       \n",
       "2020-08-25  TATASTEEL     EQ      429.50  432.00  432.65  421.45  423.95   \n",
       "2020-08-26  TATASTEEL     EQ      424.00  425.00  427.75  422.20  425.50   \n",
       "2020-08-27  TATASTEEL     EQ      425.00  425.50  430.20  423.00  427.50   \n",
       "2020-08-28  TATASTEEL     EQ      426.85  429.65  438.00  423.05  423.90   \n",
       "2020-08-31  TATASTEEL     EQ      424.20  426.50  430.15  410.00  411.00   \n",
       "\n",
       "             Close    VWAP    Volume  Turnover    Trades  Deliverable Volume  \\\n",
       "Date                                                                           \n",
       "2020-08-25  424.00  425.67  10554484  4.49e+14  119137.0            2.24e+06   \n",
       "2020-08-26  425.00  424.84   7957164  3.38e+14   68604.0            1.79e+06   \n",
       "2020-08-27  426.85  425.97   9549716  4.07e+14   93181.0            2.09e+06   \n",
       "2020-08-28  424.20  430.42  15212017  6.55e+14  139003.0            3.61e+06   \n",
       "2020-08-31  413.00  419.91  15746139  6.61e+14  123587.0            4.26e+06   \n",
       "\n",
       "            %Deliverble  \n",
       "Date                     \n",
       "2020-08-25         0.21  \n",
       "2020-08-26         0.22  \n",
       "2020-08-27         0.22  \n",
       "2020-08-28         0.24  \n",
       "2020-08-31         0.27  "
      ]
     },
     "execution_count": 76,
     "metadata": {},
     "output_type": "execute_result"
    }
   ],
   "source": [
    "model2=ARIMA(df['High'],order=(1,0,5))\n",
    "model2=model2.fit()\n",
    "df.tail()"
   ]
  },
  {
   "cell_type": "code",
   "execution_count": 83,
   "id": "7585a3fb",
   "metadata": {},
   "outputs": [],
   "source": [
    "index_future_dates=pd.date_range(start='2020-08-31',end='2020-09-30')\n",
    "pred=model2.predict(start=len(df),end=len(df)+30,type='levels').rename(\"ARIMA MODEL PREDICTIONS\")\n",
    "pred.index=index_future_dates\n",
    "\n"
   ]
  },
  {
   "cell_type": "code",
   "execution_count": 84,
   "id": "5a521a2f",
   "metadata": {},
   "outputs": [
    {
     "data": {
      "text/plain": [
       "Text(0, 0.5, 'Predicted High values')"
      ]
     },
     "execution_count": 84,
     "metadata": {},
     "output_type": "execute_result"
    },
    {
     "data": {
      "image/png": "[encoded data removed]",
      "text/plain": [
       "<Figure size 1200x500 with 1 Axes>"
      ]
     },
     "metadata": {},
     "output_type": "display_data"
    }
   ],
   "source": [
    "pred.plot(figsize=(12,5),legend=True)\n",
    "plt.xlabel('Dates of next 30 days')\n",
    "plt.ylabel('Predicted High values')"
   ]
  },
  {
   "cell_type": "code",
   "execution_count": null,
   "id": "7f05383c",
   "metadata": {},
   "outputs": [],
   "source": []
  }
 ],
 "metadata": {
  "kernelspec": {
   "display_name": "Python 3 (ipykernel)",
   "language": "python",
   "name": "python3"
  },
  "language_info": {
   "codemirror_mode": {
    "name": "ipython",
    "version": 3
   },
   "file_extension": ".py",
   "mimetype": "text/x-python",
   "name": "python",
   "nbconvert_exporter": "python",
   "pygments_lexer": "ipython3",
   "version": "3.11.3"
  }
 },
 "nbformat": 4,
 "nbformat_minor": 5
}
